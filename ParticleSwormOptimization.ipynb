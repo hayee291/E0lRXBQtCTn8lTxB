{
  "nbformat": 4,
  "nbformat_minor": 0,
  "metadata": {
    "colab": {
      "provenance": []
    },
    "kernelspec": {
      "name": "python3",
      "display_name": "Python 3"
    },
    "language_info": {
      "name": "python"
    }
  },
  "cells": [
    {
      "cell_type": "markdown",
      "source": [
        "Imports:"
      ],
      "metadata": {
        "id": "DwFELm3NAhou"
      }
    },
    {
      "cell_type": "code",
      "source": [
        "import pandas as pd\n",
        "import numpy as np\n",
        "import random\n",
        "import matplotlib.pyplot as plt\n",
        "import time"
      ],
      "metadata": {
        "id": "gUd5_oC8Af0d"
      },
      "execution_count": null,
      "outputs": []
    },
    {
      "cell_type": "markdown",
      "source": [
        "Simple function i made for testing and manually constructing testing the test functions used"
      ],
      "metadata": {
        "id": "GDHnc3Vy2NxV"
      }
    },
    {
      "cell_type": "code",
      "source": [
        "xi, yi= 0\n",
        "output = {}\n",
        "rows, cols = (20, 20)\n",
        "arr = [[0]*cols]*rows\n",
        "\n",
        "for xi in range(0,20):\n",
        "  for yi in range(0,20):\n",
        "    x = xi-10\n",
        "    y = yi-10\n",
        "    arr[xi][yi] = (1.5 - x + x*y)**2 + (2.25 - x + (x*y)**2)**2 + (2.625 - x + (x*y)**3)**2\n",
        "  print(arr[xi])\n"
      ],
      "metadata": {
        "id": "2wm4CeB6ffBo",
        "outputId": "bd58915e-277b-4160-fdc0-0e0e4ea7e78f",
        "colab": {
          "base_uri": "https://localhost:8080/",
          "height": 236
        }
      },
      "execution_count": null,
      "outputs": [
        {
          "output_type": "error",
          "ename": "TypeError",
          "evalue": "ignored",
          "traceback": [
            "\u001b[0;31m---------------------------------------------------------------------------\u001b[0m",
            "\u001b[0;31mTypeError\u001b[0m                                 Traceback (most recent call last)",
            "\u001b[0;32m<ipython-input-3-e99ce8176714>\u001b[0m in \u001b[0;36m<module>\u001b[0;34m\u001b[0m\n\u001b[0;32m----> 1\u001b[0;31m \u001b[0mxi\u001b[0m\u001b[0;34m,\u001b[0m \u001b[0myi\u001b[0m\u001b[0;34m=\u001b[0m \u001b[0;36m0\u001b[0m\u001b[0;34m\u001b[0m\u001b[0;34m\u001b[0m\u001b[0m\n\u001b[0m\u001b[1;32m      2\u001b[0m \u001b[0moutput\u001b[0m \u001b[0;34m=\u001b[0m \u001b[0;34m{\u001b[0m\u001b[0;34m}\u001b[0m\u001b[0;34m\u001b[0m\u001b[0;34m\u001b[0m\u001b[0m\n\u001b[1;32m      3\u001b[0m \u001b[0mrows\u001b[0m\u001b[0;34m,\u001b[0m \u001b[0mcols\u001b[0m \u001b[0;34m=\u001b[0m \u001b[0;34m(\u001b[0m\u001b[0;36m20\u001b[0m\u001b[0;34m,\u001b[0m \u001b[0;36m20\u001b[0m\u001b[0;34m)\u001b[0m\u001b[0;34m\u001b[0m\u001b[0;34m\u001b[0m\u001b[0m\n\u001b[1;32m      4\u001b[0m \u001b[0marr\u001b[0m \u001b[0;34m=\u001b[0m \u001b[0;34m[\u001b[0m\u001b[0;34m[\u001b[0m\u001b[0;36m0\u001b[0m\u001b[0;34m]\u001b[0m\u001b[0;34m*\u001b[0m\u001b[0mcols\u001b[0m\u001b[0;34m]\u001b[0m\u001b[0;34m*\u001b[0m\u001b[0mrows\u001b[0m\u001b[0;34m\u001b[0m\u001b[0;34m\u001b[0m\u001b[0m\n\u001b[1;32m      5\u001b[0m \u001b[0;34m\u001b[0m\u001b[0m\n",
            "\u001b[0;31mTypeError\u001b[0m: cannot unpack non-iterable int object"
          ]
        }
      ]
    },
    {
      "cell_type": "markdown",
      "source": [
        "Defining the Particle object"
      ],
      "metadata": {
        "id": "TYC2x9UfCP54"
      }
    },
    {
      "cell_type": "code",
      "execution_count": null,
      "metadata": {
        "id": "Ca79lcMnrZi4"
      },
      "outputs": [],
      "source": [
        "#Particle object.\n",
        "class Particle:\n",
        "\n",
        "  #Initalisation function\n",
        "  def __init__(self,x0,bounds):\n",
        "    self.position=[]\n",
        "    self.velocity=[]\n",
        "    self.posBest = []\n",
        "    self.val = -1\n",
        "    self.valBest = -1\n",
        "\n",
        "    #Initalising random velocity and position\n",
        "    for i in range(0,2):\n",
        "      self.velocity.append(random.uniform(-1,1))\n",
        "      self.position.append(random.uniform(bounds[0],bounds[1]))\n",
        "\n",
        "    #initialising the particles best position\n",
        "    self.posBest = self.position\n",
        "\n",
        "  #Evaluating the particle based on different functions\n",
        "  def eval (self,func):\n",
        "\n",
        "    #Converting to x and y to aid readability, and ease conversion from functions to code\n",
        "    x = self.position[0]\n",
        "    y = self.position[1]\n",
        "\n",
        "    #Evaluation the position based on the selected function\n",
        "    if(func == 0):    #Booth Function\n",
        "          self.val = (x+(2*y)-7)**2 + ((2*x) + y - 5)**2\n",
        "\n",
        "    elif(func == 1):  #Matays Function\n",
        "          self.val = 0.26 * (x**2 + y**2) - 0.48*(x*y)\n",
        "\n",
        "    elif(func == 2):  #Beale Function\n",
        "          self.val = (1.5 - x + x*y)**2 + (2.25 - x + (x*y)**2)**2 + (2.625 - x + (x*y)**3)**2\n",
        "\n",
        "    #Checkign for best value\n",
        "    if self.val < self.valBest or self.valBest == -1:\n",
        "      self.posBest = self.position\n",
        "      self.valBest = self.val\n",
        "\n",
        "  #Calculates new velocity\n",
        "  def updVel(self,posTarget,w,c1,c2):\n",
        "\n",
        "    #Velocity For each dimension(x,y)\n",
        "    for i in range(0,2):\n",
        "      #Random attribute\n",
        "      r1=random.random()\n",
        "      r2=random.random()\n",
        "\n",
        "      #Adjusting velocity for the personal best of the particle\n",
        "      vel_cog = r1*c1*(self.posBest[i]-self.position[i])\n",
        "\n",
        "      #adjusting the velocity towards a selected best\n",
        "      vel_soc = r2*c2*(posTarget[i]-self.position[i])\n",
        "\n",
        "      #Combinging calculated velocities with a weight and its existing velocity\n",
        "      self.velocity[i] = w*(self.velocity[i]+vel_cog+vel_soc)\n",
        "\n",
        "  #Calculates the new position of the particle\n",
        "  def updPos(self,bounds):\n",
        "    #For each dimension (x,y)\n",
        "    for i in range(0,2):\n",
        "      #Adding the velocity to he current position\n",
        "      self.position[i] = self.position[i]+self.velocity[i]\n",
        "\n",
        "      #Ensuing the particle cant leave the bounds set\n",
        "      if(self.position[i] > bounds[1]):\n",
        "        self.position[i] = bounds[1]\n",
        "\n",
        "      if(self.position[i] < bounds[0]):\n",
        "        self.position[i] = bounds[0]\n"
      ]
    },
    {
      "cell_type": "markdown",
      "source": [
        "'Main functions of the program'"
      ],
      "metadata": {
        "id": "o6SDna7iCK47"
      }
    },
    {
      "cell_type": "code",
      "source": [
        "#Returns the best position of a random subsection of 3 particles\n",
        "def getBestPos(swarm,numParticles):\n",
        "  partsub = []\n",
        "  bestpos = []\n",
        "  partsub = [0 for i in range(3)]\n",
        "  bestval = -999\n",
        "\n",
        "  #Randomly selecting particles\n",
        "  partsub[0], partsub[1], partsub[2] = random.sample(range(0, numParticles), 3)\n",
        "\n",
        "  #finding the best position identified by any of the particles\n",
        "  for i in range(0, 2):\n",
        "    if swarm[partsub[i]].valBest < bestval or bestval == -999:\n",
        "      bestpos = swarm[partsub[i]].posBest\n",
        "      bestval = swarm[partsub[i]].valBest\n",
        "  return bestpos\n",
        "\n",
        "#'Main' Function containing the algorithm\n",
        "def Algorithm(x0,bounds,numParticles,Iterations,w,c1,c2,func):\n",
        "  bestPos = []\n",
        "  swarm = []\n",
        "  bestVal = -100\n",
        "  partVal = [] #used to tracking progress / Iteration and could be removed to increace speed\n",
        "\n",
        "  #Creating particles and adding them to the swarm\n",
        "  for i in range(0,numParticles):\n",
        "    swarm.append(Particle(x0,bounds))\n",
        "\n",
        "  iter = 0\n",
        "\n",
        "  #for the number of iterations selected\n",
        "  while iter < Iterations:\n",
        "    #For each of the particles each round\n",
        "    for p in range(0,numParticles):\n",
        "      swarm[p].eval(func) #Evaluating the particle\n",
        "\n",
        "      #Identifying the best position of all the particle\n",
        "      #This is primarily for tracking progress and could be removed to improve speed\n",
        "      if(swarm[p].valBest < bestVal or bestVal == -100):\n",
        "        bestPos = list(swarm[p].position)\n",
        "        bestVal = float(swarm[p].valBest)\n",
        "\n",
        "    #updating the velocity and position of each particle\n",
        "    for p2 in range(0,numParticles):\n",
        "      swarm[p2].updVel(getBestPos(swarm,numParticles),w,c1,c2)\n",
        "      swarm[p2].updPos(bounds)\n",
        "\n",
        "    #tracking the best value found.\n",
        "    partVal.append(bestVal)\n",
        "    iter+=1\n",
        "\n",
        "  return bestVal"
      ],
      "metadata": {
        "id": "CtGFa0zICB3C"
      },
      "execution_count": null,
      "outputs": []
    },
    {
      "cell_type": "markdown",
      "source": [
        "After creation and defantition of the particle and the algorithm below is the 'Main' where the program iteself is ran with the varying problems\n"
      ],
      "metadata": {
        "id": "2Dc6dlHiBnVB"
      }
    },
    {
      "cell_type": "markdown",
      "source": [
        "The section below was made for tuning the hyper parameters manually, and allowing for selection of the function etc in preperation for experimentation."
      ],
      "metadata": {
        "id": "veli0eoT7mvH"
      }
    },
    {
      "cell_type": "code",
      "source": [
        "#Defining constraints\n",
        "init=[-10,10]\n",
        "bounds=[-10,10]\n",
        "\n",
        "#Defining Hyper Parameters\n",
        "numParticles = 20\n",
        "Iterations = 50\n",
        "\n",
        "#Velocity Hyper Parameters\n",
        "W = 0.2\n",
        "C1 = 0.5\n",
        "C2 = 0.5\n",
        "\n",
        "#Function Parameter -- 0 = Booth Function ---1 = Matyas function --- 2 = Beale function\n",
        "f = 0\n",
        "\n",
        "#Running Algorothm\n",
        "output = Algorithm(init,bounds,numParticles,Iterations,W,C1,C2,f)\n",
        "\n",
        "print(\"best value found : \" + str(output))"
      ],
      "metadata": {
        "colab": {
          "base_uri": "https://localhost:8080/"
        },
        "id": "RilAEZY-si7E",
        "outputId": "80ceff1c-c6f8-45b1-bee7-a21e60ae36e6"
      },
      "execution_count": null,
      "outputs": [
        {
          "output_type": "stream",
          "name": "stdout",
          "text": [
            "best value found : 0.0018974878726660655\n"
          ]
        }
      ]
    },
    {
      "cell_type": "code",
      "source": [
        "#Number of tests for each function\n",
        "Tests = 10\n",
        "\n",
        "#Defining output 2D array\n",
        "rows, cols = (3, Tests)\n",
        "output = [[0]*cols]*rows\n",
        "\n",
        "for f in range(0,3): #iterating through functions\n",
        "  timelst = []\n",
        "\n",
        "  for t in range(0,Tests): #running the selected number of tests\n",
        "    st = time.time()\n",
        "    output[f][t]= Algorithm(init,bounds,numParticles,Iterations,W,C1,C2,f)\n",
        "    et = time.time()\n",
        "    timelst.append(et-st)\n",
        "\n",
        "  print( \"Function \" + str(f) + \" best value for each run:\")\n",
        "  print(output[f])\n",
        "  print(\"Standard Deviation : \" + str(np.std(output[f])))\n",
        "  print(\"Average time/Run : \" + str(np.mean(timelst)) + \"s\")\n",
        "  print(\"\")"
      ],
      "metadata": {
        "colab": {
          "base_uri": "https://localhost:8080/"
        },
        "id": "sFU0m4fC8MjI",
        "outputId": "603d4ef2-cb49-4d36-deef-29c203192287"
      },
      "execution_count": null,
      "outputs": [
        {
          "output_type": "stream",
          "name": "stdout",
          "text": [
            "Function 0 best value for each run:\n",
            "[1.0357821971713428, 0.27679226921814576, 0.907984944979389, 2.0760870610403153, 0.33741193092462907, 0.22936279970229106, 0.37954030804853667, 0.012505285528111521, 0.005456850004823424, 0.07229777298958134]\n",
            "Standard Deviation : 0.6128316140961644\n",
            "Average time/Run : 0.012293815612792969s\n",
            "\n",
            "Function 1 best value for each run:\n",
            "[2.479932264545456e-05, 8.930183977067909e-05, 0.0015064889816416142, 0.0007889910445277098, 0.003825867279312979, 0.001472183429068635, 0.0006537015665348299, 0.0002212296009508406, 0.008914194834739805, 4.015799447595707e-05]\n",
            "Standard Deviation : 0.002624720915018841\n",
            "Average time/Run : 0.01152660846710205s\n",
            "\n",
            "Function 2 best value for each run:\n",
            "[2.813856606869185, 0.318851488892928, 1.1514338993151325, 1.811446923932883, 0.3563486815065574, 1.5582890288431959, 3.0204495312143917, 3.9490515718337313, 1.5676950745382467, 1.1837588972217052]\n",
            "Standard Deviation : 1.1099297517144844\n",
            "Average time/Run : 0.012755751609802246s\n",
            "\n"
          ]
        }
      ]
    }
  ]
}